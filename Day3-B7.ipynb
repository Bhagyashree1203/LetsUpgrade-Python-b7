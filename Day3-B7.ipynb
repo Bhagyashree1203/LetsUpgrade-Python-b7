{
 "cells": [
  {
   "cell_type": "code",
   "execution_count": null,
   "metadata": {},
   "outputs": [],
   "source": [
    "'''Question-You all are pilot,you have to land a plane,the \n",
    "altitude required for landing a plane is 1000ft,if it is less than\n",
    "that tell pilot to land the plane,or is more than thatbutlessthan \n",
    "5000ft ask the pilot to come down to 1000ft;else if it is more than \n",
    "5000ft ask the pilot to \"go around and try later\"'''"
   ]
  },
  {
   "cell_type": "code",
   "execution_count": 2,
   "metadata": {},
   "outputs": [
    {
     "name": "stdout",
     "output_type": "stream",
     "text": [
      "Enter your altitude: 1000\n",
      "Safe to land\n"
     ]
    }
   ],
   "source": [
    "altitude=int(input(\"Enter your altitude: \"))\n",
    "if altitude <= 1000:\n",
    "    print(\"Safe to land\")\n",
    "elif altitude > 1000 and altitude <= 5000:\n",
    "    print(\"Bring to 1000\")\n",
    "else:\n",
    "    print(\"Turn around\")\n"
   ]
  },
  {
   "cell_type": "code",
   "execution_count": null,
   "metadata": {},
   "outputs": [],
   "source": []
  },
  {
   "cell_type": "code",
   "execution_count": null,
   "metadata": {},
   "outputs": [],
   "source": []
  }
 ],
 "metadata": {
  "kernelspec": {
   "display_name": "Python 3",
   "language": "python",
   "name": "python3"
  },
  "language_info": {
   "codemirror_mode": {
    "name": "ipython",
    "version": 3
   },
   "file_extension": ".py",
   "mimetype": "text/x-python",
   "name": "python",
   "nbconvert_exporter": "python",
   "pygments_lexer": "ipython3",
   "version": "3.7.6"
  }
 },
 "nbformat": 4,
 "nbformat_minor": 4
}

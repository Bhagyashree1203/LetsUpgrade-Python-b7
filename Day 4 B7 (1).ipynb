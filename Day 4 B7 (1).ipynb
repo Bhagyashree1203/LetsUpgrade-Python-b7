{
 "cells": [
  {
   "cell_type": "code",
   "execution_count": null,
   "metadata": {},
   "outputs": [],
   "source": [
    "'''''Day 4 Assignment 1\n",
    "Print the first Armstrong number in the range of 1042000 to 702648265 and \n",
    "exit the loop as soon as you encounter\n",
    "the first Armstrong number. Use while loop''''''"
   ]
  },
  {
   "cell_type": "code",
   "execution_count": 7,
   "metadata": {},
   "outputs": [
    {
     "name": "stdout",
     "output_type": "stream",
     "text": [
      "The first armstrong number is-1741725\n"
     ]
    }
   ],
   "source": [
    "upper = 702648265\n",
    "lowers=1042000\n",
    "for num in range (lowers, upper + 1):\n",
    "    o= len (str(num))\n",
    "    sum = 0\n",
    "    temp = num\n",
    "    while temp > 0:\n",
    "        x = temp % 10\n",
    "        sum += x ** o\n",
    "        temp //= 10\n",
    "\n",
    "    if num == sum:\n",
    "        print(f\"The first armstrong number is-{num}\")\n",
    "        break"
   ]
  }
 ],
 "metadata": {
  "kernelspec": {
   "display_name": "Python 3",
   "language": "python",
   "name": "python3"
  },
  "language_info": {
   "codemirror_mode": {
    "name": "ipython",
    "version": 3
   },
   "file_extension": ".py",
   "mimetype": "text/x-python",
   "name": "python",
   "nbconvert_exporter": "python",
   "pygments_lexer": "ipython3",
   "version": "3.7.6"
  }
 },
 "nbformat": 4,
 "nbformat_minor": 4
}
